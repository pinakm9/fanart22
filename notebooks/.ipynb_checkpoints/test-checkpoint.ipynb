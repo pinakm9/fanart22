{
 "cells": [
  {
   "cell_type": "code",
   "execution_count": 1,
   "id": "common-monthly",
   "metadata": {},
   "outputs": [
    {
     "name": "stdout",
     "output_type": "stream",
     "text": [
      "C:\\Users\\pinak\\Documents\\GitHub\\cara-baile\n"
     ]
    }
   ],
   "source": [
    "import numpy as np\n",
    "import cv2\n",
    "from PIL import Image, ImageOps\n",
    "import matplotlib.pyplot as plt\n",
    "from scipy.spatial import Voronoi, voronoi_plot_2d\n",
    "import sys\n",
    "from pathlib import Path\n",
    "from os.path import dirname, abspath\n",
    "project_dir = Path(dirname(abspath('')))\n",
    "module_dir = str(project_dir)\n",
    "sys.path.insert(0, module_dir + '/modules')\n",
    "print(module_dir)\n",
    "import mod"
   ]
  },
  {
   "cell_type": "code",
   "execution_count": 2,
   "id": "vocal-moses",
   "metadata": {},
   "outputs": [],
   "source": [
    "obj = mod.Mod(r\"../assets/akhil.png\")\n",
    "X0 = np.random.uniform(low=[0., 0.],  high=[obj.width-1, obj.height-1], size=(8000, 2))\n",
    "#obj.get_colormap()\n",
    "#obj.find_circles(X0)\n",
    "#obj.plot_steady()"
   ]
  },
  {
   "cell_type": "code",
   "execution_count": 3,
   "id": "dirty-cornell",
   "metadata": {},
   "outputs": [],
   "source": [
    "X0_ = np.array([[i, j] for i in range(2, obj.width, 4) for j in range(2, obj.height, 4)])\n",
    "#obj.find_circles(X0_)\n",
    "#obj.plot_steady(area_factor=50., marker='.')"
   ]
  },
  {
   "cell_type": "code",
   "execution_count": 4,
   "id": "coral-modeling",
   "metadata": {},
   "outputs": [
    {
     "data": {
      "image/png": "[encoded data removed]",
      "text/plain": [
       "<Figure size 432x288 with 1 Axes>"
      ]
     },
     "metadata": {
      "needs_background": "light"
     },
     "output_type": "display_data"
    }
   ],
   "source": [
    "wave = mod.Wave('../assets/blue.wav')"
   ]
  },
  {
   "cell_type": "code",
   "execution_count": null,
   "id": "western-tablet",
   "metadata": {},
   "outputs": [],
   "source": []
  }
 ],
 "metadata": {
  "kernelspec": {
   "display_name": "Python 3",
   "language": "python",
   "name": "python3"
  },
  "language_info": {
   "codemirror_mode": {
    "name": "ipython",
    "version": 3
   },
   "file_extension": ".py",
   "mimetype": "text/x-python",
   "name": "python",
   "nbconvert_exporter": "python",
   "pygments_lexer": "ipython3",
   "version": "3.8.3"
  }
 },
 "nbformat": 4,
 "nbformat_minor": 5
}
